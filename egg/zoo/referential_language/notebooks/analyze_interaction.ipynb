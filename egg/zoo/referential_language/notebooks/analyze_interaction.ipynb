{
 "cells": [
  {
   "cell_type": "code",
   "execution_count": 20,
   "metadata": {},
   "outputs": [],
   "source": [
    "from collections import defaultdict\n",
    "from statistics import mean, stdev\n",
    "\n",
    "import numpy as np\n",
    "import torch\n",
    "\n",
    "from IPython.core.debugger import set_trace"
   ]
  },
  {
   "cell_type": "code",
   "execution_count": 18,
   "metadata": {},
   "outputs": [],
   "source": [
    "def entropy_dict(freq_table):\n",
    "    t = torch.tensor([v for v in freq_table.values()]).float()\n",
    "    if (t < 0.0).any():\n",
    "        raise RuntimeError(\"Encountered negative probabilities\")\n",
    "\n",
    "    t /= t.sum()\n",
    "    return -(torch.where(t > 0, t.log(), t) * t).sum().item() / np.log(2)\n",
    "\n",
    "def calc_entropy(messages):\n",
    "    freq_table = defaultdict(float)\n",
    "    for m in messages:\n",
    "        m = _hashable_tensor(m)\n",
    "        freq_table[m] += 1.0\n",
    "\n",
    "    return entropy_dict(freq_table)\n",
    "\n",
    "def _hashable_tensor(t):\n",
    "    if torch.is_tensor(t) and t.numel() > 1:\n",
    "        t = tuple(t.tolist())\n",
    "    elif torch.is_tensor(t) and t.numel() == 1:\n",
    "        t = t.item()\n",
    "    elif isinstance(t, list):\n",
    "        t = tuple(t)\n",
    "    return t"
   ]
  },
  {
   "cell_type": "code",
   "execution_count": 31,
   "metadata": {},
   "outputs": [],
   "source": [
    "# interaction_path = \"/private/home/rdessi/contextual_emcomm/previous_exp/ctx/self_attn/interactions/interaction_53233351_0\"\n",
    "\n",
    "# DA model\n",
    "#interaction_path = \"/private/home/rdessi/contextual_emcomm/ctx/self_attn_diff_sender_mlp_same_recv_mlp_best_setup/interactions/interaction_53355809_3\"\n",
    "# TO Model\n",
    "interaction_path = \"/private/home/rdessi/contextual_emcomm/control_no_attn_double_separate_sender_same_recv_9distractors/interactions/interaction_53561113_1\"\n",
    "interaction = torch.load(interaction_path)"
   ]
  },
  {
   "cell_type": "code",
   "execution_count": 32,
   "metadata": {
    "scrolled": true
   },
   "outputs": [
    {
     "ename": "AttributeError",
     "evalue": "'NoneType' object has no attribute 'squeeze'",
     "output_type": "error",
     "traceback": [
      "\u001b[0;31m---------------------------------------------------------------------------\u001b[0m",
      "\u001b[0;31mAttributeError\u001b[0m                            Traceback (most recent call last)",
      "\u001b[0;32m<ipython-input-32-167eb2fce08a>\u001b[0m in \u001b[0;36m<module>\u001b[0;34m\u001b[0m\n\u001b[1;32m      1\u001b[0m \u001b[0mtop_attn_score_right_guess\u001b[0m \u001b[0;34m=\u001b[0m \u001b[0;34m[\u001b[0m\u001b[0;34m]\u001b[0m\u001b[0;34m\u001b[0m\u001b[0;34m\u001b[0m\u001b[0m\n\u001b[1;32m      2\u001b[0m \u001b[0mtop_attn_score_wrong_guess\u001b[0m \u001b[0;34m=\u001b[0m \u001b[0;34m[\u001b[0m\u001b[0;34m]\u001b[0m\u001b[0;34m\u001b[0m\u001b[0;34m\u001b[0m\u001b[0m\n\u001b[0;32m----> 3\u001b[0;31m \u001b[0mattn_weights\u001b[0m \u001b[0;34m=\u001b[0m \u001b[0minteraction\u001b[0m\u001b[0;34m.\u001b[0m\u001b[0maux_input\u001b[0m\u001b[0;34m[\u001b[0m\u001b[0;34m\"attn_weights\"\u001b[0m\u001b[0;34m]\u001b[0m\u001b[0;34m.\u001b[0m\u001b[0msqueeze\u001b[0m\u001b[0;34m(\u001b[0m\u001b[0;34m)\u001b[0m\u001b[0;34m[\u001b[0m\u001b[0;34m:\u001b[0m\u001b[0;34m,\u001b[0m \u001b[0;34m:\u001b[0m\u001b[0;34m,\u001b[0m \u001b[0;36m0\u001b[0m\u001b[0;34m,\u001b[0m \u001b[0;34m...\u001b[0m\u001b[0;34m]\u001b[0m\u001b[0;34m\u001b[0m\u001b[0;34m\u001b[0m\u001b[0m\n\u001b[0m\u001b[1;32m      4\u001b[0m \u001b[0mreceiver_output\u001b[0m \u001b[0;34m=\u001b[0m \u001b[0minteraction\u001b[0m\u001b[0;34m.\u001b[0m\u001b[0mreceiver_output\u001b[0m\u001b[0;34m\u001b[0m\u001b[0;34m\u001b[0m\u001b[0m\n\u001b[1;32m      5\u001b[0m \u001b[0;34m\u001b[0m\u001b[0m\n",
      "\u001b[0;31mAttributeError\u001b[0m: 'NoneType' object has no attribute 'squeeze'"
     ]
    }
   ],
   "source": [
    "top_attn_score_right_guess = []\n",
    "top_attn_score_wrong_guess = []\n",
    "attn_weights = interaction.aux_input[\"attn_weights\"].squeeze()[:, :, 0, ...]\n",
    "receiver_output = interaction.receiver_output\n",
    "\n",
    "errs = 0\n",
    "for batch_id, batch in enumerate(interaction.aux_input[\"all_accs\"]):\n",
    "    for elem_id, batch_elem in enumerate(batch):\n",
    "        for guess_id, guess_acc in enumerate(batch_elem):\n",
    "            if interaction.aux_input[\"mask\"][batch_id, elem_id, guess_id] == False:\n",
    "                # skipping masked elements\n",
    "                continue\n",
    "            top_attn_score_idx = torch.argmax(attn_weights[batch_id, elem_id, guess_id], dim=-1)\n",
    "            top_attn_score_value = attn_weights[batch_id, elem_id, guess_id][top_attn_score_idx].item()\n",
    "            \n",
    "            if guess_acc.item() == 0.:\n",
    "                errs += 1\n",
    "                correct_guess = guess_id\n",
    "                recv_guess = receiver_output[batch_id, elem_id, guess_id]\n",
    "                assert correct_guess != recv_guess.item()\n",
    "                top_attn_score_wrong_guess.append(top_attn_score_value)\n",
    "            \n",
    "            else:\n",
    "                top_attn_score_right_guess.append(top_attn_score_value)\n",
    "                \n",
    "print(f'acc = {100 - round(errs / interaction.aux_input[\"mask\"].sum().item(), 4) * 100}%')\n",
    "\n",
    "all_top_attn_scores = top_attn_score_right_guess + top_attn_score_wrong_guess\n",
    "print(f\"mean top attn score {mean(all_top_attn_scores):.4f} ± {stdev(all_top_attn_scores):.4f}\")\n",
    "\n",
    "print(f\"mean top attn score right guess {mean(top_attn_score_right_guess):.4f} ± {stdev(top_attn_score_right_guess):.4f}\")\n",
    "print(f\"mean top attn score wrong guess {mean(top_attn_score_wrong_guess):.4f} ± {stdev(top_attn_score_wrong_guess):.4f}\")"
   ]
  },
  {
   "cell_type": "code",
   "execution_count": 33,
   "metadata": {
    "scrolled": false
   },
   "outputs": [
    {
     "name": "stdout",
     "output_type": "stream",
     "text": [
      "Total number of objects in the test set 39949\n",
      "entropy symbol1: 3.8688, max=4.3219\n",
      "entropy symbol2: 3.9605, max=4.4594\n",
      "cardinality lexicon of symb1 20\n",
      "cardinality lexicon of symb2 22\n",
      "intersection of first and second symbol = 0 elems\n",
      "entropy two symbol msgs: 8.2095, max=8.2095\n",
      "cardinality lexicon of two symbol msgs 296\n"
     ]
    }
   ],
   "source": [
    "n_batches, bsz, max_objs = interaction.aux_input[\"mask\"].shape\n",
    "messages = interaction.message.view(n_batches, bsz, max_objs, 2, -1)\n",
    "first_symbol = []\n",
    "second_symbol = []\n",
    "two_symbol_msg = []\n",
    "total = 0\n",
    "for batch_id, batch in enumerate(interaction.aux_input[\"all_accs\"]):\n",
    "    for elem_id, batch_elem in enumerate(batch):\n",
    "        for guess_id, guess_acc in enumerate(batch_elem):\n",
    "            if interaction.aux_input[\"mask\"][batch_id, elem_id, guess_id] == False:\n",
    "                # skipping masked elements\n",
    "                continue\n",
    "            total += 1\n",
    "            msg_idx_first_symbol = torch.argmax(messages[batch_id, elem_id, guess_id][0]).item()\n",
    "            first_symbol.append(msg_idx_first_symbol)\n",
    "            \n",
    "            msg_idx_second_symbol = torch.argmax(messages[batch_id, elem_id, guess_id][1]).item()\n",
    "            second_symbol.append(msg_idx_second_symbol)\n",
    "            \n",
    "            two_symbol_msg.append((msg_idx_first_symbol, msg_idx_second_symbol))\n",
    "\n",
    "\n",
    "assert len(first_symbol) == len(second_symbol)\n",
    "\n",
    "print(f\"Total number of objects in the test set {total}\")\n",
    "lexicon1 = set(first_symbol)\n",
    "lexicon2 = set(second_symbol)\n",
    "print(f\"entropy symbol1: {calc_entropy(first_symbol):.4f}, max={np.log2(len(lexicon1)):.4f}\")\n",
    "print(f\"entropy symbol2: {calc_entropy(second_symbol):.4f}, max={np.log2(len(lexicon2)):.4f}\")\n",
    "print(f\"cardinality lexicon of symb1 {len(lexicon1)}\")\n",
    "print(f\"cardinality lexicon of symb2 {len(lexicon2)}\")\n",
    "\n",
    "print(f\"intersection of first and second symbol = {len(list(size_lexicon1 & size_lexicon2))} elems\")\n",
    "\n",
    "lexicon_two_symbol_msg = set(two_symbol_msg)\n",
    "print(f\"entropy two symbol msgs: {calc_entropy(lexicon_two_symbol_msg):.4f}, max={np.log2(len(lexicon_two_symbol_msg)):.4f}\")\n",
    "print(f\"cardinality lexicon of two symbol msgs {len(lexicon_two_symbol_msg)}\")"
   ]
  }
 ],
 "metadata": {
  "kernelspec": {
   "display_name": "Python 3",
   "language": "python",
   "name": "python3"
  },
  "language_info": {
   "codemirror_mode": {
    "name": "ipython",
    "version": 3
   },
   "file_extension": ".py",
   "mimetype": "text/x-python",
   "name": "python",
   "nbconvert_exporter": "python",
   "pygments_lexer": "ipython3",
   "version": "3.7.6"
  }
 },
 "nbformat": 4,
 "nbformat_minor": 4
}
