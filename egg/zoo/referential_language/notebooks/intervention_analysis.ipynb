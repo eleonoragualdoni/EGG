{
 "cells": [
  {
   "cell_type": "code",
   "execution_count": 1,
   "metadata": {},
   "outputs": [],
   "source": [
    "import random\n",
    "from collections import Counter, defaultdict\n",
    "# from statistics import mean, stdev\n",
    "\n",
    "import numpy as np\n",
    "import torch\n",
    "\n",
    "from egg.core.language_analysis import calc_entropy\n",
    "from egg.zoo.referential_language.games import build_game\n",
    "\n",
    "from IPython.core.debugger import set_trace"
   ]
  },
  {
   "cell_type": "code",
   "execution_count": 15,
   "metadata": {},
   "outputs": [],
   "source": [
    "def load_model(model_args, checkpoint_path):\n",
    "    model = build_game(model_args)\n",
    "    model_ckpt = torch.load(checkpoint_path)\n",
    "    model.load_state_dict(model_ckpt.model_state_dict)\n",
    "    print(f\"| Successfully loaded model from {checkpoint_path}\")\n",
    "    return model\n",
    "\n",
    "# DA\n",
    "checkpoint_path = \"/private/home/rdessi/contextual_emcomm/da_model/53845331_0/final.tar\"\n",
    "interaction_path = \"/private/home/rdessi/contextual_emcomm/da_model/interactions/interaction_53845331_0\"\n",
    "# TO\n",
    "#checkpoint_path = \"/private/home/rdessi/contextual_emcomm/to_model/53820379_0/final.tar\"\n",
    "#interaction_path = \"/private/home/rdessi/contextual_emcomm/to_model/interactions/interaction_53820379_0\""
   ]
  },
  {
   "cell_type": "code",
   "execution_count": 42,
   "metadata": {},
   "outputs": [],
   "source": [
    "def get_msg_counters(msg, mask):\n",
    "    n_batches, bsz, max_objs = mask.shape\n",
    "    msg = torch.argmax(msg.view(n_batches, bsz, max_objs, 2, -1), dim=-1)\n",
    "\n",
    "    nb_samples = 0\n",
    "    list_sym1, list_sym2, list_msg = [], [], []\n",
    "    for batch_id, batch in enumerate(msg):\n",
    "        for elem_id, batch_elem in enumerate(batch):\n",
    "            for msg_id, msg in enumerate(batch_elem):\n",
    "                if mask[batch_id, elem_id, msg_id] is False:\n",
    "                    continue\n",
    "                nb_samples += 1\n",
    "                list_sym1.append(msg[0].item())\n",
    "                list_sym2.append(msg[1].item())\n",
    "                list_msg.append(tuple(msg.tolist()))\n",
    "    print(f\"{calc_entropy(list_sym1)}\")\n",
    "    print(f\"{calc_entropy(list_sym2)}\")\n",
    "    print(f\"{calc_entropy(list_msg)}\")\n",
    "    return Counter(list_sym1), Counter(list_sym2), Counter(list_msg)"
   ]
  },
  {
   "cell_type": "code",
   "execution_count": 36,
   "metadata": {},
   "outputs": [],
   "source": [
    "def compute_accuracy(msgs, recv_input, receiver, loss, mask, counter_sym1, counter_sym2, counter_msg):\n",
    "    acc = 0.0\n",
    "    for batch_id in range(msgs.shape[0]):\n",
    "        msg = msgs[batch_id]\n",
    "        images = recv_input[batch_id]\n",
    "\n",
    "        recv_output = receiver(msg, images)\n",
    "\n",
    "        aux_input = {\"mask\": mask[batch_id]}\n",
    "        _, aux = loss(None, None, None, recv_output, None, aux_input)\n",
    "        acc += aux[\"acc\"].item()\n",
    "\n",
    "    print(f\"original acc = {acc / (batch_id + 1):.4f}\")\n",
    "\n",
    "    c1, c2, c_msg = list(counter_sym1), list(counter_sym2), list(counter_msg)\n",
    "    \"\"\"\n",
    "    acc = 0.0\n",
    "    for batch_id in range(msgs.shape[0]):\n",
    "        msg = msgs[batch_id]\n",
    "        for m in msg:\n",
    "            idx = torch.argmax(m[0], -1)\n",
    "            new_idx = counter_sym1.most_common(1)[0][0]\n",
    "            if idx == new_idx:\n",
    "                new_idx = counter_sym1.most_common(2)[1][0]\n",
    "            #new_idx = random.sample(c1, k=1)[0]\n",
    "            #while new_idx == idx:\n",
    "            #    new_idx = random.sample(c1, k=1)[0]\n",
    "            m[0][idx] = 0\n",
    "            m[0][new_idx] = 1\n",
    "            \n",
    "        images = recv_input[batch_id]\n",
    "\n",
    "        recv_output = receiver(msg, images)\n",
    "\n",
    "        aux_input = {\"mask\": mask[batch_id]}\n",
    "        _, aux = loss(None, None, None, recv_output, None, aux_input)\n",
    "        acc += aux[\"acc\"].item()\n",
    "    print(f\"acc sym1 = {acc / (batch_id + 1):.4f}\")\n",
    "    \n",
    "    acc = 0.0\n",
    "    for batch_id in range(msgs.shape[0]):\n",
    "        msg = msgs[batch_id]\n",
    "        for m in msg:\n",
    "            idx = torch.argmax(m[1], -1)\n",
    "            new_idx = counter_sym2.most_common(1)[0][0]\n",
    "            if idx == new_idx:\n",
    "                new_idx = counter_sym2.most_common(2)[1][0]\n",
    "            #new_idx = random.sample(c1, k=1)[0]\n",
    "            #while new_idx == idx:\n",
    "            #    new_idx = random.sample(c1, k=1)[0]\n",
    "            m[1][idx] = 0\n",
    "            m[1][new_idx] = 1\n",
    "            \n",
    "        images = recv_input[batch_id]\n",
    "\n",
    "        recv_output = receiver(msg, images)\n",
    "\n",
    "        aux_input = {\"mask\": mask[batch_id]}\n",
    "        _, aux = loss(None, None, None, recv_output, None, aux_input)\n",
    "        acc += aux[\"acc\"].item()\n",
    "    print(f\"acc sym2 = {acc / (batch_id + 1):.4f}\")\n",
    "    \n",
    "    \"\"\"\n",
    "    acc = 0.0\n",
    "    for batch_id in range(msgs.shape[0]):\n",
    "        msg = msgs[batch_id]\n",
    "        for m in msg:\n",
    "            s1 = torch.argmax(m[0], -1)\n",
    "            s2 = torch.argmax(m[1], -1)\n",
    "            msg = (s1, s1)\n",
    "            new_msg = random.sample(c_msg, k=1)[0]\n",
    "            while new_msg == msg:\n",
    "                new_msg = random.sample(c_msg, k=1)[0]\n",
    "            set_trace()\n",
    "            m[0][s1] = 0\n",
    "            m[1][s2] = 0\n",
    "            m[0][new_msg[0]] = 1\n",
    "            m[1][new_msg[1]] = 1\n",
    "            \n",
    "            #if idx == new_idx:\n",
    "            #    new_idx = counter_sym2.most_common(2)[1][0]\n",
    "            #new_idx = random.sample(c1, k=1)[0]\n",
    "            #while new_idx == idx:\n",
    "            #    new_idx = random.sample(c1, k=1)[0]\n",
    "            #m[1][idx] = 0\n",
    "            #m[1][new_idx] = 1\n",
    "            \n",
    "        images = recv_input[batch_id]\n",
    "\n",
    "        recv_output = receiver(msg, images)\n",
    "\n",
    "        aux_input = {\"mask\": mask[batch_id]}\n",
    "        _, aux = loss(None, None, None, recv_output, None, aux_input)\n",
    "        acc += aux[\"acc\"].item()\n",
    "    print(f\"acc msg = {acc / (batch_id + 1):.4f}\")"
   ]
  },
  {
   "cell_type": "code",
   "execution_count": 16,
   "metadata": {},
   "outputs": [
    {
     "name": "stdout",
     "output_type": "stream",
     "text": [
      "| Successfully loaded model from /private/home/rdessi/contextual_emcomm/da_model/53845331_0/final.tar\n"
     ]
    }
   ],
   "source": [
    "interaction = torch.load(interaction_path)\n",
    "model = load_model(model_args=interaction.aux_input[\"args\"], checkpoint_path=checkpoint_path)"
   ]
  },
  {
   "cell_type": "code",
   "execution_count": 43,
   "metadata": {},
   "outputs": [
    {
     "name": "stdout",
     "output_type": "stream",
     "text": [
      "3.813432543404763\n",
      "2.5219374258830447\n",
      "6.135146735257421\n"
     ]
    }
   ],
   "source": [
    "msg = interaction.message\n",
    "mask = interaction.aux_input[\"mask\"]\n",
    "counter_sym1, counter_sym2, counter_msg = get_msg_counters(msg, mask)"
   ]
  },
  {
   "cell_type": "code",
   "execution_count": null,
   "metadata": {},
   "outputs": [],
   "source": [
    "counter_sym1"
   ]
  },
  {
   "cell_type": "code",
   "execution_count": 34,
   "metadata": {},
   "outputs": [],
   "source": [
    "receiver = model.game.receiver\n",
    "loss = model.game.loss\n",
    "recv_input = interaction.aux_input[\"recv_img_feats\"]\n",
    "msg = interaction.message.clone()\n",
    "mask = interaction.aux_input[\"mask\"]"
   ]
  },
  {
   "cell_type": "code",
   "execution_count": 35,
   "metadata": {},
   "outputs": [
    {
     "name": "stdout",
     "output_type": "stream",
     "text": [
      "original acc = 0.8689\n"
     ]
    },
    {
     "ename": "TypeError",
     "evalue": "tuple indices must be integers or slices, not tuple",
     "output_type": "error",
     "traceback": [
      "\u001b[0;31m---------------------------------------------------------------------------\u001b[0m",
      "\u001b[0;31mTypeError\u001b[0m                                 Traceback (most recent call last)",
      "\u001b[0;32m<ipython-input-35-9460f85632a4>\u001b[0m in \u001b[0;36m<module>\u001b[0;34m\u001b[0m\n\u001b[0;32m----> 1\u001b[0;31m \u001b[0mcompute_accuracy\u001b[0m\u001b[0;34m(\u001b[0m\u001b[0mmsg\u001b[0m\u001b[0;34m,\u001b[0m \u001b[0mrecv_input\u001b[0m\u001b[0;34m,\u001b[0m \u001b[0mreceiver\u001b[0m\u001b[0;34m,\u001b[0m \u001b[0mloss\u001b[0m\u001b[0;34m,\u001b[0m \u001b[0mmask\u001b[0m\u001b[0;34m,\u001b[0m \u001b[0mcounter_sym1\u001b[0m\u001b[0;34m,\u001b[0m \u001b[0mcounter_sym2\u001b[0m\u001b[0;34m,\u001b[0m \u001b[0mcounter_msg\u001b[0m\u001b[0;34m)\u001b[0m\u001b[0;34m\u001b[0m\u001b[0;34m\u001b[0m\u001b[0m\n\u001b[0m",
      "\u001b[0;32m<ipython-input-32-910290b1013c>\u001b[0m in \u001b[0;36mcompute_accuracy\u001b[0;34m(msgs, recv_input, receiver, loss, mask, counter_sym1, counter_sym2, counter_msg)\u001b[0m\n\u001b[1;32m     87\u001b[0m         \u001b[0mimages\u001b[0m \u001b[0;34m=\u001b[0m \u001b[0mrecv_input\u001b[0m\u001b[0;34m[\u001b[0m\u001b[0mbatch_id\u001b[0m\u001b[0;34m]\u001b[0m\u001b[0;34m\u001b[0m\u001b[0;34m\u001b[0m\u001b[0m\n\u001b[1;32m     88\u001b[0m \u001b[0;34m\u001b[0m\u001b[0m\n\u001b[0;32m---> 89\u001b[0;31m         \u001b[0mrecv_output\u001b[0m \u001b[0;34m=\u001b[0m \u001b[0mreceiver\u001b[0m\u001b[0;34m(\u001b[0m\u001b[0mmsg\u001b[0m\u001b[0;34m,\u001b[0m \u001b[0mimages\u001b[0m\u001b[0;34m)\u001b[0m\u001b[0;34m\u001b[0m\u001b[0;34m\u001b[0m\u001b[0m\n\u001b[0m\u001b[1;32m     90\u001b[0m \u001b[0;34m\u001b[0m\u001b[0m\n\u001b[1;32m     91\u001b[0m         \u001b[0maux_input\u001b[0m \u001b[0;34m=\u001b[0m \u001b[0;34m{\u001b[0m\u001b[0;34m\"mask\"\u001b[0m\u001b[0;34m:\u001b[0m \u001b[0mmask\u001b[0m\u001b[0;34m[\u001b[0m\u001b[0mbatch_id\u001b[0m\u001b[0;34m]\u001b[0m\u001b[0;34m}\u001b[0m\u001b[0;34m\u001b[0m\u001b[0;34m\u001b[0m\u001b[0m\n",
      "\u001b[0;32m~/miniconda3/envs/egg/lib/python3.7/site-packages/torch/nn/modules/module.py\u001b[0m in \u001b[0;36m_call_impl\u001b[0;34m(self, *input, **kwargs)\u001b[0m\n\u001b[1;32m    725\u001b[0m             \u001b[0mresult\u001b[0m \u001b[0;34m=\u001b[0m \u001b[0mself\u001b[0m\u001b[0;34m.\u001b[0m\u001b[0m_slow_forward\u001b[0m\u001b[0;34m(\u001b[0m\u001b[0;34m*\u001b[0m\u001b[0minput\u001b[0m\u001b[0;34m,\u001b[0m \u001b[0;34m**\u001b[0m\u001b[0mkwargs\u001b[0m\u001b[0;34m)\u001b[0m\u001b[0;34m\u001b[0m\u001b[0;34m\u001b[0m\u001b[0m\n\u001b[1;32m    726\u001b[0m         \u001b[0;32melse\u001b[0m\u001b[0;34m:\u001b[0m\u001b[0;34m\u001b[0m\u001b[0;34m\u001b[0m\u001b[0m\n\u001b[0;32m--> 727\u001b[0;31m             \u001b[0mresult\u001b[0m \u001b[0;34m=\u001b[0m \u001b[0mself\u001b[0m\u001b[0;34m.\u001b[0m\u001b[0mforward\u001b[0m\u001b[0;34m(\u001b[0m\u001b[0;34m*\u001b[0m\u001b[0minput\u001b[0m\u001b[0;34m,\u001b[0m \u001b[0;34m**\u001b[0m\u001b[0mkwargs\u001b[0m\u001b[0;34m)\u001b[0m\u001b[0;34m\u001b[0m\u001b[0;34m\u001b[0m\u001b[0m\n\u001b[0m\u001b[1;32m    728\u001b[0m         for hook in itertools.chain(\n\u001b[1;32m    729\u001b[0m                 \u001b[0m_global_forward_hooks\u001b[0m\u001b[0;34m.\u001b[0m\u001b[0mvalues\u001b[0m\u001b[0;34m(\u001b[0m\u001b[0;34m)\u001b[0m\u001b[0;34m,\u001b[0m\u001b[0;34m\u001b[0m\u001b[0;34m\u001b[0m\u001b[0m\n",
      "\u001b[0;32m~/EGG/egg/zoo/referential_language/archs.py\u001b[0m in \u001b[0;36mforward\u001b[0;34m(self, message, input, aux_input)\u001b[0m\n\u001b[1;32m    199\u001b[0m \u001b[0;34m\u001b[0m\u001b[0m\n\u001b[1;32m    200\u001b[0m     \u001b[0;32mdef\u001b[0m \u001b[0mforward\u001b[0m\u001b[0;34m(\u001b[0m\u001b[0mself\u001b[0m\u001b[0;34m,\u001b[0m \u001b[0mmessage\u001b[0m\u001b[0;34m,\u001b[0m \u001b[0minput\u001b[0m\u001b[0;34m=\u001b[0m\u001b[0;32mNone\u001b[0m\u001b[0;34m,\u001b[0m \u001b[0maux_input\u001b[0m\u001b[0;34m=\u001b[0m\u001b[0;32mNone\u001b[0m\u001b[0;34m)\u001b[0m\u001b[0;34m:\u001b[0m\u001b[0;34m\u001b[0m\u001b[0;34m\u001b[0m\u001b[0m\n\u001b[0;32m--> 201\u001b[0;31m         \u001b[0membedded_tgt\u001b[0m \u001b[0;34m=\u001b[0m \u001b[0mself\u001b[0m\u001b[0;34m.\u001b[0m\u001b[0membedding1\u001b[0m\u001b[0;34m(\u001b[0m\u001b[0mmessage\u001b[0m\u001b[0;34m[\u001b[0m\u001b[0;34m:\u001b[0m\u001b[0;34m,\u001b[0m \u001b[0;36m0\u001b[0m\u001b[0;34m,\u001b[0m \u001b[0;34m...\u001b[0m\u001b[0;34m]\u001b[0m\u001b[0;34m)\u001b[0m\u001b[0;34m\u001b[0m\u001b[0;34m\u001b[0m\u001b[0m\n\u001b[0m\u001b[1;32m    202\u001b[0m         \u001b[0membedded_ctx\u001b[0m \u001b[0;34m=\u001b[0m \u001b[0mself\u001b[0m\u001b[0;34m.\u001b[0m\u001b[0membedding2\u001b[0m\u001b[0;34m(\u001b[0m\u001b[0mmessage\u001b[0m\u001b[0;34m[\u001b[0m\u001b[0;34m:\u001b[0m\u001b[0;34m,\u001b[0m \u001b[0;36m1\u001b[0m\u001b[0;34m,\u001b[0m \u001b[0;34m...\u001b[0m\u001b[0;34m]\u001b[0m\u001b[0;34m)\u001b[0m\u001b[0;34m\u001b[0m\u001b[0;34m\u001b[0m\u001b[0m\n\u001b[1;32m    203\u001b[0m         \u001b[0membedded_msg\u001b[0m \u001b[0;34m=\u001b[0m \u001b[0mtorch\u001b[0m\u001b[0;34m.\u001b[0m\u001b[0mcat\u001b[0m\u001b[0;34m(\u001b[0m\u001b[0;34m[\u001b[0m\u001b[0membedded_tgt\u001b[0m\u001b[0;34m,\u001b[0m \u001b[0membedded_ctx\u001b[0m\u001b[0;34m]\u001b[0m\u001b[0;34m,\u001b[0m \u001b[0mdim\u001b[0m\u001b[0;34m=\u001b[0m\u001b[0;36m1\u001b[0m\u001b[0;34m)\u001b[0m\u001b[0;34m\u001b[0m\u001b[0;34m\u001b[0m\u001b[0m\n",
      "\u001b[0;31mTypeError\u001b[0m: tuple indices must be integers or slices, not tuple"
     ]
    }
   ],
   "source": [
    "compute_accuracy(msg, recv_input, receiver, loss, mask, counter_sym1, counter_sym2, counter_msg)"
   ]
  }
 ],
 "metadata": {
  "kernelspec": {
   "display_name": "Python 3",
   "language": "python",
   "name": "python3"
  },
  "language_info": {
   "codemirror_mode": {
    "name": "ipython",
    "version": 3
   },
   "file_extension": ".py",
   "mimetype": "text/x-python",
   "name": "python",
   "nbconvert_exporter": "python",
   "pygments_lexer": "ipython3",
   "version": "3.7.6"
  }
 },
 "nbformat": 4,
 "nbformat_minor": 4
}
